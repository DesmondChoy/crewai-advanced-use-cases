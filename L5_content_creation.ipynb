{
 "cells": [
  {
   "cell_type": "markdown",
   "id": "bae53a09-c04c-4916-a146-00e0bb188954",
   "metadata": {},
   "source": [
    "# L5: Content Creation at Scale"
   ]
  },
  {
   "cell_type": "markdown",
   "id": "ece8c6f9-763c-47ea-b8e8-65001bd08aae",
   "metadata": {},
   "source": [
    "# Import libs"
   ]
  },
  {
   "cell_type": "code",
   "execution_count": null,
   "id": "41d1ce58-9d2e-4349-acbd-49227e37d31c",
   "metadata": {
    "height": 200
   },
   "outputs": [],
   "source": [
    "# Warning control\n",
    "import warnings\n",
    "import os\n",
    "import yaml\n",
    "import textwrap\n",
    "\n",
    "from pydantic import BaseModel, Field\n",
    "from typing import List\n",
    "from dotenv import load_dotenv\n",
    "from crewai import Agent, Task, Crew\n",
    "from crewai_tools import SerperDevTool, ScrapeWebsiteTool, WebsiteSearchTool\n",
    "\n",
    "from IPython.display import display, Markdown\n",
    "\n",
    "\n",
    "load_dotenv()  # take environment variables from .env\n",
    "warnings.filterwarnings(\"ignore\")\n",
    "\n",
    "# os.environ[\"OPENAI_MODEL_NAME\"] = \"gpt-4o\"\n",
    "os.environ[\"OPENAI_MODEL_NAME\"] = \"gpt-4o-mini\"\n",
    "groq_llm = \"groq/gemma2-9b-it\"\n"
   ]
  },
  {
   "cell_type": "markdown",
   "id": "dd03a195-a1a5-4667-9108-24a7f9094618",
   "metadata": {},
   "source": [
    "# Loading Tasks and Agents YAML files"
   ]
  },
  {
   "cell_type": "code",
   "execution_count": null,
   "id": "f58e827a-8e2e-4f1d-8f8c-9486828f951d",
   "metadata": {
    "height": 268
   },
   "outputs": [],
   "source": [
    "# Define file paths for YAML configurations\n",
    "files = {\"agents\": \"config/L5_agents.yaml\", \"tasks\": \"config/L5_tasks.yaml\"}\n",
    "\n",
    "# Load configurations from YAML files\n",
    "configs = {}\n",
    "for config_type, file_path in files.items():\n",
    "    with open(file_path, \"r\") as file:\n",
    "        configs[config_type] = yaml.safe_load(file)\n",
    "\n",
    "# Assign loaded configurations to specific variables\n",
    "agents_config = configs[\"agents\"]\n",
    "tasks_config = configs[\"tasks\"]"
   ]
  },
  {
   "cell_type": "code",
   "execution_count": null,
   "id": "007570e2",
   "metadata": {},
   "outputs": [],
   "source": [
    "configs.keys()"
   ]
  },
  {
   "cell_type": "markdown",
   "id": "57b9bbe5-e31b-4267-828b-45c98edda89e",
   "metadata": {},
   "source": [
    "# Creating Structured Output"
   ]
  },
  {
   "cell_type": "code",
   "execution_count": null,
   "id": "0f171b23-b3cc-48c9-a8ba-07358e271e63",
   "metadata": {
    "height": 199
   },
   "outputs": [],
   "source": [
    "class SocialMediaPost(BaseModel):\n",
    "    platform: str = Field(\n",
    "        ...,\n",
    "        description=\"The social media platform where the post will be published (e.g., Twitter, LinkedIn).\",\n",
    "    )\n",
    "    content: str = Field(\n",
    "        ...,\n",
    "        description=\"The content of the social media post, including any hashtags or mentions.\",\n",
    "    )\n",
    "\n",
    "\n",
    "class ContentOutput(BaseModel):\n",
    "    article: str = Field(..., description=\"The article, formatted in markdown.\")\n",
    "    social_media_posts: List[SocialMediaPost] = Field(\n",
    "        ..., description=\"A list of social media posts related to the article.\"\n",
    "    )"
   ]
  },
  {
   "cell_type": "markdown",
   "id": "d71692a9-ff30-4497-a8df-25bf5b5a100e",
   "metadata": {},
   "source": [
    "# Creating Crew, Agents, and Tasks"
   ]
  },
  {
   "cell_type": "code",
   "execution_count": null,
   "id": "9e861574-0f9b-4f2c-b2d1-a230fc3a53a3",
   "metadata": {
    "height": 1050
   },
   "outputs": [],
   "source": [
    "# Creating Agents\n",
    "market_news_monitor_agent = Agent(\n",
    "    config=agents_config[\"market_news_monitor_agent\"],\n",
    "    tools=[SerperDevTool(), ScrapeWebsiteTool()],\n",
    "    llm=groq_llm,\n",
    ")\n",
    "\n",
    "data_analyst_agent = Agent(\n",
    "    config=agents_config[\"data_analyst_agent\"],\n",
    "    tools=[SerperDevTool(), WebsiteSearchTool()],\n",
    "    llm=groq_llm,\n",
    ")\n",
    "\n",
    "content_creator_agent = Agent(\n",
    "    config=agents_config[\"content_creator_agent\"],\n",
    "    tools=[SerperDevTool(), WebsiteSearchTool()],\n",
    ")\n",
    "\n",
    "quality_assurance_agent = Agent(\n",
    "    config=agents_config[\"quality_assurance_agent\"],\n",
    ")\n",
    "\n",
    "# Creating Tasks\n",
    "monitor_financial_news_task = Task(\n",
    "    config=tasks_config[\"monitor_financial_news\"], agent=market_news_monitor_agent\n",
    ")\n",
    "\n",
    "analyze_market_data_task = Task(\n",
    "    config=tasks_config[\"analyze_market_data\"], agent=data_analyst_agent\n",
    ")\n",
    "\n",
    "create_content_task = Task(\n",
    "    config=tasks_config[\"create_content\"],\n",
    "    agent=content_creator_agent,\n",
    "    context=[monitor_financial_news_task, analyze_market_data_task],\n",
    ")\n",
    "\n",
    "quality_assurance_task = Task(\n",
    "    config=tasks_config[\"quality_assurance\"],\n",
    "    agent=quality_assurance_agent,\n",
    "    output_pydantic=ContentOutput,\n",
    ")\n",
    "\n",
    "# Creating Crew\n",
    "content_creation_crew = Crew(\n",
    "    agents=[\n",
    "        market_news_monitor_agent,\n",
    "        data_analyst_agent,\n",
    "        content_creator_agent,\n",
    "        quality_assurance_agent,\n",
    "    ],\n",
    "    tasks=[\n",
    "        monitor_financial_news_task,\n",
    "        analyze_market_data_task,\n",
    "        create_content_task,\n",
    "        quality_assurance_task,\n",
    "    ],\n",
    "    verbose=True,\n",
    ")"
   ]
  },
  {
   "cell_type": "markdown",
   "id": "60caa956-a429-424f-b5cc-59ebaa21ba82",
   "metadata": {},
   "source": [
    "# Kicking off the Crew"
   ]
  },
  {
   "cell_type": "code",
   "execution_count": null,
   "id": "831a24e8-055c-4008-844b-270a76c35898",
   "metadata": {
    "height": 80
   },
   "outputs": [],
   "source": [
    "result = content_creation_crew.kickoff(\n",
    "    inputs={\"subject\": \"How AI agents have evolved since the launch of ChatGPT\"}\n",
    ")"
   ]
  },
  {
   "cell_type": "markdown",
   "id": "0276872f-fcb9-43e9-9372-e9a6ee35a7e6",
   "metadata": {},
   "source": [
    "# Social Content"
   ]
  },
  {
   "cell_type": "code",
   "execution_count": null,
   "id": "66b3b165-2a4b-46cc-93f7-696dffff1e10",
   "metadata": {
    "height": 183
   },
   "outputs": [],
   "source": [
    "posts = result.pydantic.dict()[\"social_media_posts\"]\n",
    "for post in posts:\n",
    "    platform = post[\"platform\"]\n",
    "    content = post[\"content\"]\n",
    "    print(platform)\n",
    "    wrapped_content = textwrap.fill(content, width=50)\n",
    "    print(wrapped_content)\n",
    "    print(\"-\" * 50)"
   ]
  },
  {
   "cell_type": "markdown",
   "id": "bbde59f0-e97a-468c-992c-3ce4faba9bc7",
   "metadata": {},
   "source": [
    "# Blog Post"
   ]
  },
  {
   "cell_type": "code",
   "execution_count": null,
   "id": "6396b0f6-e3ae-4a89-a3e9-ca53aa042c40",
   "metadata": {
    "height": 47
   },
   "outputs": [],
   "source": [
    "display(Markdown(result.pydantic.dict()[\"article\"]))"
   ]
  }
 ],
 "metadata": {
  "kernelspec": {
   "display_name": ".venv",
   "language": "python",
   "name": "python3"
  },
  "language_info": {
   "codemirror_mode": {
    "name": "ipython",
    "version": 3
   },
   "file_extension": ".py",
   "mimetype": "text/x-python",
   "name": "python",
   "nbconvert_exporter": "python",
   "pygments_lexer": "ipython3",
   "version": "3.11.6"
  }
 },
 "nbformat": 4,
 "nbformat_minor": 5
}
